{
 "cells": [
  {
   "cell_type": "markdown",
   "metadata": {},
   "source": [
    "# Google Play Scraper for CI and Sentiment Analysis"
   ]
  },
  {
   "cell_type": "code",
   "execution_count": 1,
   "metadata": {
    "id": "7LrN0PPts_rW"
   },
   "outputs": [],
   "source": [
    "#!pip install -qq google-play-scraper"
   ]
  },
  {
   "cell_type": "code",
   "execution_count": 2,
   "metadata": {
    "id": "go8wSy7YWzqf"
   },
   "outputs": [],
   "source": [
    "import json\n",
    "import pandas as pd\n",
    "from tqdm import tqdm\n",
    "\n",
    "from pygments import highlight\n",
    "from pygments.lexers import JsonLexer\n",
    "from pygments.formatters import TerminalFormatter\n",
    "\n",
    "from google_play_scraper import Sort, reviews, app"
   ]
  },
  {
   "cell_type": "markdown",
   "metadata": {},
   "source": [
    "## Create data storage"
   ]
  },
  {
   "cell_type": "code",
   "execution_count": 3,
   "metadata": {
    "colab": {
     "base_uri": "https://localhost:8080/"
    },
    "id": "QFVp1nFwfFMW",
    "outputId": "1b7ff4e3-9eb8-4876-83c4-c7e786c2671e",
    "scrolled": false
   },
   "outputs": [],
   "source": [
    "#from google.colab import drive\n",
    "#drive.mount('/content/gdrive', force_remount=True)\n",
    "path = \"Downloads\""
   ]
  },
  {
   "cell_type": "markdown",
   "metadata": {},
   "source": [
    "## Targeting the Company"
   ]
  },
  {
   "cell_type": "code",
   "execution_count": 4,
   "metadata": {
    "id": "vhJFzzGjX_9T"
   },
   "outputs": [],
   "source": [
    "app_packages = [\n",
    "                'ovo.id',\n",
    "                'id.dana'\n",
    "]"
   ]
  },
  {
   "cell_type": "code",
   "execution_count": 5,
   "metadata": {
    "colab": {
     "base_uri": "https://localhost:8080/"
    },
    "id": "UGh6LpyLX7Eo",
    "outputId": "7357f87d-6388-42ba-d1fa-f86dc3c872b1"
   },
   "outputs": [
    {
     "name": "stderr",
     "output_type": "stream",
     "text": [
      "100%|██████████| 2/2 [00:05<00:00,  2.92s/it]\n"
     ]
    }
   ],
   "source": [
    "app_infos = []\n",
    "\n",
    "for application in tqdm(app_packages):\n",
    "  info = app(application, lang='id', country='id')\n",
    "  del info['comments']\n",
    "  app_infos.append(info)"
   ]
  },
  {
   "cell_type": "code",
   "execution_count": 6,
   "metadata": {
    "id": "jgM9iXo7af07"
   },
   "outputs": [],
   "source": [
    "def print_json(json_object):\n",
    "  json_str = json.dumps(\n",
    "      json_object,\n",
    "      indent=2,\n",
    "      sort_keys= True,\n",
    "      default=str\n",
    "  )\n",
    "  print(highlight(json_str, JsonLexer(), TerminalFormatter()))"
   ]
  },
  {
   "cell_type": "code",
   "execution_count": 7,
   "metadata": {
    "colab": {
     "base_uri": "https://localhost:8080/"
    },
    "id": "qbsmFACNbJFk",
    "outputId": "bc38ca3f-b56e-48ff-cc4d-0dbf4e63f570",
    "scrolled": true
   },
   "outputs": [
    {
     "name": "stdout",
     "output_type": "stream",
     "text": [
      "{\n",
      "  \u001b[94m\"adSupported\"\u001b[39;49;00m: \u001b[34mnull\u001b[39;49;00m,\n",
      "  \u001b[94m\"androidVersion\"\u001b[39;49;00m: \u001b[33m\"5.0\"\u001b[39;49;00m,\n",
      "  \u001b[94m\"androidVersionText\"\u001b[39;49;00m: \u001b[33m\"5.0 dan yang lebih tinggi\"\u001b[39;49;00m,\n",
      "  \u001b[94m\"appId\"\u001b[39;49;00m: \u001b[33m\"ovo.id\"\u001b[39;49;00m,\n",
      "  \u001b[94m\"containsAds\"\u001b[39;49;00m: \u001b[34mfalse\u001b[39;49;00m,\n",
      "  \u001b[94m\"contentRating\"\u001b[39;49;00m: \u001b[33m\"Rating 3+\"\u001b[39;49;00m,\n",
      "  \u001b[94m\"contentRatingDescription\"\u001b[39;49;00m: \u001b[34mnull\u001b[39;49;00m,\n",
      "  \u001b[94m\"currency\"\u001b[39;49;00m: \u001b[33m\"IDR\"\u001b[39;49;00m,\n",
      "  \u001b[94m\"description\"\u001b[39;49;00m: \u001b[33m\"Dari jajan-jajan sampai makan besar, dari tagihan bulanan sampai belanja dadakan, dari online shopping sampai warung pinggir jalan \\u2013 kapan pun dan di mana pun, semuanya bisa dibayar cukup #pakeOVOaja!\\r\\n\\r\\nYup bener, sekarang semuanya cukup pake OVO aja. Gak perlu repot sama uang cash, transaksi lebih mudah, cepat, dan aman pake OVO.\\r\\n\\r\\n\\r\\nMau tau OVO bisa ngapain aja?\\r\\n\\r\\n> Bisa Bayar Ini-Itu\\r\\nPakai OVO untuk transaksimu di 500.000+ merchant rekanan, beli pulsa, bayar tagihan bulanan, parkir, semua layanan Grab, dan semua pembelian di Tokopedia.\\r\\n\\r\\n> Hemat Transaksimu di Mana-Mana dengan OVO Points\\r\\n1 OVO Point = Rp1. Dapatkan OVO Points saat kamu bertransaksi di merchant rekanan, dan gunakan untuk menghemat transaksimu berikutnya.\\r\\n\\r\\n> Transfer ke Semua Bank\\r\\nUpgrade akun ke OVO Premier untuk rasakan praktisnya transfer ke sesama pengguna, atau ke semua Bank yang ada di Indonesia. Tanpa antre.\\r\\n\\r\\n> Top Up Mudah\\r\\nLewat Instan Top Up, ATM, internet/mobile banking, OVO Booth, abang Grab, atau debit langsung di dalam aplikasi OVO.\\r\\n\\r\\nDownload dan rasakan kemudahannya, sekarang!\\r\\n\\r\\nInstagram.com/ovo_id\\r\\nwww.ovo.id\"\u001b[39;49;00m,\n",
      "  \u001b[94m\"descriptionHTML\"\u001b[39;49;00m: \u001b[33m\"Dari jajan-jajan sampai makan besar, dari tagihan bulanan sampai belanja dadakan, dari online shopping sampai warung pinggir jalan \\u2013 kapan pun dan di mana pun, semuanya bisa dibayar cukup #pakeOVOaja!<br><br>Yup bener, sekarang semuanya cukup pake OVO aja. Gak perlu repot sama uang cash, transaksi lebih mudah, cepat, dan aman pake OVO.<br><br><br>Mau tau OVO bisa ngapain aja?<br><br>&gt; Bisa Bayar Ini-Itu<br>Pakai OVO untuk transaksimu di 500.000+ merchant rekanan, beli pulsa, bayar tagihan bulanan, parkir, semua layanan Grab, dan semua pembelian di Tokopedia.<br><br>&gt; Hemat Transaksimu di Mana-Mana dengan OVO Points<br>1 OVO Point = Rp1. Dapatkan OVO Points saat kamu bertransaksi di merchant rekanan, dan gunakan untuk menghemat transaksimu berikutnya.<br><br>&gt; Transfer ke Semua Bank<br>Upgrade akun ke OVO Premier untuk rasakan praktisnya transfer ke sesama pengguna, atau ke semua Bank yang ada di Indonesia. Tanpa antre.<br><br>&gt; Top Up Mudah<br>Lewat Instan Top Up, ATM, internet/mobile banking, OVO Booth, abang Grab, atau debit langsung di dalam aplikasi OVO.<br><br>Download dan rasakan kemudahannya, sekarang!<br><br>Instagram.com/ovo_id<br>www.ovo.id\"\u001b[39;49;00m,\n",
      "  \u001b[94m\"developer\"\u001b[39;49;00m: \u001b[33m\"PT Visionet Internasional\"\u001b[39;49;00m,\n",
      "  \u001b[94m\"developerAddress\"\u001b[39;49;00m: \u001b[34mnull\u001b[39;49;00m,\n",
      "  \u001b[94m\"developerEmail\"\u001b[39;49;00m: \u001b[33m\"account@ovo.id\"\u001b[39;49;00m,\n",
      "  \u001b[94m\"developerId\"\u001b[39;49;00m: \u001b[33m\"PT+Visionet+Internasional\"\u001b[39;49;00m,\n",
      "  \u001b[94m\"developerInternalID\"\u001b[39;49;00m: \u001b[33m\"5375047421816339732\"\u001b[39;49;00m,\n",
      "  \u001b[94m\"developerWebsite\"\u001b[39;49;00m: \u001b[33m\"https://www.ovo.id/\"\u001b[39;49;00m,\n",
      "  \u001b[94m\"editorsChoice\"\u001b[39;49;00m: \u001b[34mfalse\u001b[39;49;00m,\n",
      "  \u001b[94m\"free\"\u001b[39;49;00m: \u001b[34mtrue\u001b[39;49;00m,\n",
      "  \u001b[94m\"genre\"\u001b[39;49;00m: \u001b[33m\"Keuangan\"\u001b[39;49;00m,\n",
      "  \u001b[94m\"genreId\"\u001b[39;49;00m: \u001b[33m\"FINANCE\"\u001b[39;49;00m,\n",
      "  \u001b[94m\"headerImage\"\u001b[39;49;00m: \u001b[33m\"https://play-lh.googleusercontent.com/oxDB9SB9wVn_lzl-1r-xhE8Ycrnbe_bZHQLPsp_gm9gVkYACfYt-EB-3DFg0kbcSySo\"\u001b[39;49;00m,\n",
      "  \u001b[94m\"histogram\"\u001b[39;49;00m: [\n",
      "    \u001b[34m155506\u001b[39;49;00m,\n",
      "    \u001b[34m25168\u001b[39;49;00m,\n",
      "    \u001b[34m32841\u001b[39;49;00m,\n",
      "    \u001b[34m53543\u001b[39;49;00m,\n",
      "    \u001b[34m423825\u001b[39;49;00m\n",
      "  ],\n",
      "  \u001b[94m\"icon\"\u001b[39;49;00m: \u001b[33m\"https://play-lh.googleusercontent.com/ZY7pvdVzvq6yEnvW0G15mRGCFm5OGkIk-czbG2RW6LAppo0dY54fZOBbM9OOo38t97qN\"\u001b[39;49;00m,\n",
      "  \u001b[94m\"inAppProductPrice\"\u001b[39;49;00m: \u001b[34mnull\u001b[39;49;00m,\n",
      "  \u001b[94m\"installs\"\u001b[39;49;00m: \u001b[33m\"10.000.000+\"\u001b[39;49;00m,\n",
      "  \u001b[94m\"minInstalls\"\u001b[39;49;00m: \u001b[34m10000000\u001b[39;49;00m,\n",
      "  \u001b[94m\"offersIAP\"\u001b[39;49;00m: \u001b[34mfalse\u001b[39;49;00m,\n",
      "  \u001b[94m\"originalPrice\"\u001b[39;49;00m: \u001b[34mnull\u001b[39;49;00m,\n",
      "  \u001b[94m\"price\"\u001b[39;49;00m: \u001b[34m0\u001b[39;49;00m,\n",
      "  \u001b[94m\"privacyPolicy\"\u001b[39;49;00m: \u001b[33m\"https://www.ovo.id/tnc\"\u001b[39;49;00m,\n",
      "  \u001b[94m\"ratings\"\u001b[39;49;00m: \u001b[34m690883\u001b[39;49;00m,\n",
      "  \u001b[94m\"recentChanges\"\u001b[39;49;00m: \u001b[33m\"Yang ditunggu-tunggu datang juga!\\r\\n\\r\\nDi OVO versi terbaru, kamu bisa cobain layanan/produk baru dari Adira yang bekerjasama dengan OVO nih.\\r\\n\\r\\nNantinya kamu bisa nikmati fasilitas pinjaman dana dari Adira dengan proses yang cepat dan mudah.\\r\\n\\r\\nMau cobain sekarang? Bisa banget! Langsung aja klik update ya.\"\u001b[39;49;00m,\n",
      "  \u001b[94m\"recentChangesHTML\"\u001b[39;49;00m: \u001b[33m\"Yang ditunggu-tunggu datang juga!<br><br>Di OVO versi terbaru, kamu bisa cobain layanan/produk baru dari Adira yang bekerjasama dengan OVO nih.<br><br>Nantinya kamu bisa nikmati fasilitas pinjaman dana dari Adira dengan proses yang cepat dan mudah.<br><br>Mau cobain sekarang? Bisa banget! Langsung aja klik update ya.\"\u001b[39;49;00m,\n",
      "  \u001b[94m\"released\"\u001b[39;49;00m: \u001b[33m\"9 Agu 2016\"\u001b[39;49;00m,\n",
      "  \u001b[94m\"reviews\"\u001b[39;49;00m: \u001b[34m335908\u001b[39;49;00m,\n",
      "  \u001b[94m\"sale\"\u001b[39;49;00m: \u001b[34mfalse\u001b[39;49;00m,\n",
      "  \u001b[94m\"saleText\"\u001b[39;49;00m: \u001b[34mnull\u001b[39;49;00m,\n",
      "  \u001b[94m\"saleTime\"\u001b[39;49;00m: \u001b[34mnull\u001b[39;49;00m,\n",
      "  \u001b[94m\"score\"\u001b[39;49;00m: \u001b[34m3.817811\u001b[39;49;00m,\n",
      "  \u001b[94m\"screenshots\"\u001b[39;49;00m: [\n",
      "    \u001b[33m\"https://play-lh.googleusercontent.com/nuk_ERkEgLNa9SC7Vz_r3nSJ5XCwOtmfp3CkAYzLbbelo8LeQn720M2TU09znb--BtY\"\u001b[39;49;00m,\n",
      "    \u001b[33m\"https://play-lh.googleusercontent.com/KapxUVnA1j9kJ_7SwnOesiDqOI8FT_oP33r75luQEM7frUWGYcVtHtU7SKjeArt9fNE\"\u001b[39;49;00m,\n",
      "    \u001b[33m\"https://play-lh.googleusercontent.com/RX4w5Pwex-A8vWUVN7Got0HQwQdvh79VT6E6FV7knKyFxl98n9Q9XllNQ6JCKvDPFbU\"\u001b[39;49;00m,\n",
      "    \u001b[33m\"https://play-lh.googleusercontent.com/QQFkXxYWK5TqDoaELHGFhTOMAAcxZI4Gynwj3ixusIWiDCnVWu-OfQEbB-ZB9o6-xZY\"\u001b[39;49;00m,\n",
      "    \u001b[33m\"https://play-lh.googleusercontent.com/LCLppPa5G5pEMpAOg7udcJD68kPMBzvSZk3W0uz6aE2c_4Bj5bVlPo2j0krkLWpFWfY7\"\u001b[39;49;00m\n",
      "  ],\n",
      "  \u001b[94m\"size\"\u001b[39;49;00m: \u001b[33m\"48M\"\u001b[39;49;00m,\n",
      "  \u001b[94m\"summary\"\u001b[39;49;00m: \u001b[33m\"Indonesia\\u2019s one app to pay everywhere.\"\u001b[39;49;00m,\n",
      "  \u001b[94m\"summaryHTML\"\u001b[39;49;00m: \u001b[33m\"Indonesia\\u2019s one app to pay everywhere.\"\u001b[39;49;00m,\n",
      "  \u001b[94m\"title\"\u001b[39;49;00m: \u001b[33m\"OVO\"\u001b[39;49;00m,\n",
      "  \u001b[94m\"updated\"\u001b[39;49;00m: \u001b[34m1630864146\u001b[39;49;00m,\n",
      "  \u001b[94m\"url\"\u001b[39;49;00m: \u001b[33m\"https://play.google.com/store/apps/details?id=ovo.id&hl=id&gl=id\"\u001b[39;49;00m,\n",
      "  \u001b[94m\"version\"\u001b[39;49;00m: \u001b[33m\"3.42.0\"\u001b[39;49;00m,\n",
      "  \u001b[94m\"video\"\u001b[39;49;00m: \u001b[34mnull\u001b[39;49;00m,\n",
      "  \u001b[94m\"videoImage\"\u001b[39;49;00m: \u001b[34mnull\u001b[39;49;00m\n",
      "}\n",
      "\n"
     ]
    }
   ],
   "source": [
    "print_json(app_infos[0])"
   ]
  },
  {
   "cell_type": "markdown",
   "metadata": {},
   "source": [
    "## Data Extraction"
   ]
  },
  {
   "cell_type": "code",
   "execution_count": 8,
   "metadata": {
    "id": "7C0nD1qDgjY_"
   },
   "outputs": [],
   "source": [
    "def format_title(title):\n",
    "  sep_index = title.find(':') if title.find(':') != -1 else title.find('-')\n",
    "  if sep_index != -1:\n",
    "    title = title[:sep_index]\n",
    "  return title[:10]"
   ]
  },
  {
   "cell_type": "code",
   "execution_count": 9,
   "metadata": {
    "id": "pSpSkm-rgjoF"
   },
   "outputs": [],
   "source": [
    "app_infos_df = pd.DataFrame(app_infos)\n",
    "app_infos_df.to_csv(path +'apps.csv', index=None, header=True)"
   ]
  },
  {
   "cell_type": "code",
   "execution_count": 10,
   "metadata": {
    "colab": {
     "base_uri": "https://localhost:8080/"
    },
    "id": "hCSQoO6bhZV8",
    "outputId": "fd9fcc4b-06d8-4a05-cda8-f7472314d128"
   },
   "outputs": [
    {
     "name": "stderr",
     "output_type": "stream",
     "text": [
      "100%|██████████| 2/2 [00:49<00:00, 24.90s/it]\n"
     ]
    }
   ],
   "source": [
    "app_reviews = []\n",
    "\n",
    "for ap in tqdm(app_packages):\n",
    " for score in list(range(1,6)):\n",
    "    for sort_order in (Sort.MOST_RELEVANT, Sort.NEWEST):\n",
    "      rvs, _ = reviews(\n",
    "          ap,\n",
    "          lang='id',\n",
    "          country='id',\n",
    "          sort = sort_order,\n",
    "          count = 1200 if score == 3 else 600,\n",
    "          filter_score_with = score\n",
    "      )\n",
    "      for r in rvs:\n",
    "        r['sortOrder'] = 'most_relevant' if sort_order == Sort.MOST_RELEVANT else 'newest'\n",
    "        r['appId'] = ap\n",
    "      app_reviews.extend(rvs)\n"
   ]
  },
  {
   "cell_type": "code",
   "execution_count": 11,
   "metadata": {
    "colab": {
     "base_uri": "https://localhost:8080/"
    },
    "id": "mXrCY3xekML5",
    "outputId": "e22682db-c3e2-4341-a421-87b8a021686c"
   },
   "outputs": [
    {
     "name": "stdout",
     "output_type": "stream",
     "text": [
      "{\n",
      "  \u001b[94m\"appId\"\u001b[39;49;00m: \u001b[33m\"ovo.id\"\u001b[39;49;00m,\n",
      "  \u001b[94m\"at\"\u001b[39;49;00m: \u001b[33m\"2021-09-08 13:19:16\"\u001b[39;49;00m,\n",
      "  \u001b[94m\"content\"\u001b[39;49;00m: \u001b[33m\"Hay OVO..Gak usah banyak gaya ingin kerja sama dengan adira..nampung prakerja aja sudah kewalahan server kamu. Perbarui dulu sistem nya,upgrade server nya baru tingkatkan pelayanan. Ini saya pengguna lama ovo premier,mau login susah kode otp gak dikirim kirim. Hubungi CS abis pulsa puluhan ribu gak ada hasil. Gimana mau transaksi,sudah 3 hari gak bisa login. Saldo saya jadi gak berguna klo begitu. Pantas rating bintang satu semua. TERTINGGAL JAUH oleh DANA,GOPAY.\"\u001b[39;49;00m,\n",
      "  \u001b[94m\"repliedAt\"\u001b[39;49;00m: \u001b[33m\"2021-09-08 13:36:41\"\u001b[39;49;00m,\n",
      "  \u001b[94m\"replyContent\"\u001b[39;49;00m: \u001b[33m\"Hai Kak Vian, mohon maaf atas ketidaknyamanannya. Apabila ada keluhan/pertanyaan mohon menghubungi tim kami melalui email di cs@ovo.id atau call center kami di 1500-696. Terima kasih. ^YP\"\u001b[39;49;00m,\n",
      "  \u001b[94m\"reviewCreatedVersion\"\u001b[39;49;00m: \u001b[33m\"3.42.0\"\u001b[39;49;00m,\n",
      "  \u001b[94m\"reviewId\"\u001b[39;49;00m: \u001b[33m\"gp:AOqpTOFfVB-ecjLtidhryYJFhh4T0Z1KDzcs-WaGqb8A_P7xSuFeK--2adFSbRETBZvFl_fZQnVYPTlh278_sPM\"\u001b[39;49;00m,\n",
      "  \u001b[94m\"score\"\u001b[39;49;00m: \u001b[34m1\u001b[39;49;00m,\n",
      "  \u001b[94m\"sortOrder\"\u001b[39;49;00m: \u001b[33m\"most_relevant\"\u001b[39;49;00m,\n",
      "  \u001b[94m\"thumbsUpCount\"\u001b[39;49;00m: \u001b[34m82\u001b[39;49;00m,\n",
      "  \u001b[94m\"userImage\"\u001b[39;49;00m: \u001b[33m\"https://play-lh.googleusercontent.com/a/AATXAJzoq4xIHk-rnYi6dsQo5a5ixHDKB6d7B8aNJfn3=mo\"\u001b[39;49;00m,\n",
      "  \u001b[94m\"userName\"\u001b[39;49;00m: \u001b[33m\"Vian Alfiansyah\"\u001b[39;49;00m\n",
      "}\n",
      "\n"
     ]
    }
   ],
   "source": [
    "print_json(app_reviews[0])"
   ]
  },
  {
   "cell_type": "code",
   "execution_count": 12,
   "metadata": {
    "id": "B8kNamlTkam_"
   },
   "outputs": [],
   "source": [
    "app_reviews_df = pd.DataFrame(app_reviews)\n",
    "app_reviews_df.to_csv(path+'ggplay.csv',index=None, header=True)"
   ]
  },
  {
   "cell_type": "code",
   "execution_count": 16,
   "metadata": {
    "scrolled": true
   },
   "outputs": [
    {
     "data": {
      "text/html": [
       "<div>\n",
       "<style scoped>\n",
       "    .dataframe tbody tr th:only-of-type {\n",
       "        vertical-align: middle;\n",
       "    }\n",
       "\n",
       "    .dataframe tbody tr th {\n",
       "        vertical-align: top;\n",
       "    }\n",
       "\n",
       "    .dataframe thead th {\n",
       "        text-align: right;\n",
       "    }\n",
       "</style>\n",
       "<table border=\"1\" class=\"dataframe\">\n",
       "  <thead>\n",
       "    <tr style=\"text-align: right;\">\n",
       "      <th></th>\n",
       "      <th>reviewId</th>\n",
       "      <th>userName</th>\n",
       "      <th>userImage</th>\n",
       "      <th>content</th>\n",
       "      <th>score</th>\n",
       "      <th>thumbsUpCount</th>\n",
       "      <th>reviewCreatedVersion</th>\n",
       "      <th>at</th>\n",
       "      <th>replyContent</th>\n",
       "      <th>repliedAt</th>\n",
       "      <th>sortOrder</th>\n",
       "      <th>appId</th>\n",
       "    </tr>\n",
       "  </thead>\n",
       "  <tbody>\n",
       "    <tr>\n",
       "      <th>0</th>\n",
       "      <td>gp:AOqpTOFfVB-ecjLtidhryYJFhh4T0Z1KDzcs-WaGqb8...</td>\n",
       "      <td>Vian Alfiansyah</td>\n",
       "      <td>https://play-lh.googleusercontent.com/a/AATXAJ...</td>\n",
       "      <td>Hay OVO..Gak usah banyak gaya ingin kerja sama...</td>\n",
       "      <td>1</td>\n",
       "      <td>82</td>\n",
       "      <td>3.42.0</td>\n",
       "      <td>2021-09-08 13:19:16</td>\n",
       "      <td>Hai Kak Vian, mohon maaf atas ketidaknyamanann...</td>\n",
       "      <td>2021-09-08 13:36:41</td>\n",
       "      <td>most_relevant</td>\n",
       "      <td>ovo.id</td>\n",
       "    </tr>\n",
       "    <tr>\n",
       "      <th>1</th>\n",
       "      <td>gp:AOqpTOFgnPyjzAh6XXZKgBigKp2IIfzoOKSlxiN-Igw...</td>\n",
       "      <td>Afrizal Santoso</td>\n",
       "      <td>https://play-lh.googleusercontent.com/a-/AOh14...</td>\n",
       "      <td>Sungguh bikin kesal, saya dari kemarin beli pa...</td>\n",
       "      <td>1</td>\n",
       "      <td>4</td>\n",
       "      <td>3.42.0</td>\n",
       "      <td>2021-09-09 11:23:41</td>\n",
       "      <td>Hai Kak Afrizal, mohon maaf atas ketidaknyaman...</td>\n",
       "      <td>2021-09-09 11:29:46</td>\n",
       "      <td>most_relevant</td>\n",
       "      <td>ovo.id</td>\n",
       "    </tr>\n",
       "    <tr>\n",
       "      <th>2</th>\n",
       "      <td>gp:AOqpTOGuj97RQy6mgaT1SV-8s5lxm2jK9ZiAHS1fAgE...</td>\n",
       "      <td>Ekki Budiansyah Putri utami</td>\n",
       "      <td>https://play-lh.googleusercontent.com/a-/AOh14...</td>\n",
       "      <td>Ga guna banget nih aplikasi. Sekarang susah ba...</td>\n",
       "      <td>1</td>\n",
       "      <td>1</td>\n",
       "      <td>3.42.0</td>\n",
       "      <td>2021-09-09 19:20:05</td>\n",
       "      <td>Hai Kak Ekki, mohon maaf atas ketidaknyamanann...</td>\n",
       "      <td>2021-09-09 19:25:21</td>\n",
       "      <td>most_relevant</td>\n",
       "      <td>ovo.id</td>\n",
       "    </tr>\n",
       "    <tr>\n",
       "      <th>3</th>\n",
       "      <td>gp:AOqpTOHdA2lJTQACd2sEqh73r-5ow4_40SZaeKfABDM...</td>\n",
       "      <td>Syofriwan Hadi</td>\n",
       "      <td>https://play-lh.googleusercontent.com/a-/AOh14...</td>\n",
       "      <td>banyak respon negatif dari user 😂😂😂 *top up bi...</td>\n",
       "      <td>1</td>\n",
       "      <td>28</td>\n",
       "      <td>3.42.0</td>\n",
       "      <td>2021-09-07 07:58:40</td>\n",
       "      <td>Hai Kak Syofriwan, mohon maaf atas ketidaknyam...</td>\n",
       "      <td>2021-09-07 08:09:21</td>\n",
       "      <td>most_relevant</td>\n",
       "      <td>ovo.id</td>\n",
       "    </tr>\n",
       "    <tr>\n",
       "      <th>4</th>\n",
       "      <td>gp:AOqpTOGoM9YMrnunBDtgTyY1HuFqMiCCb5euqKFhLhG...</td>\n",
       "      <td>Imas Siti masitoh</td>\n",
       "      <td>https://play-lh.googleusercontent.com/a-/AOh14...</td>\n",
       "      <td>Ini gimana yah ko insentif saya belum cair? Pd...</td>\n",
       "      <td>1</td>\n",
       "      <td>25</td>\n",
       "      <td>3.42.0</td>\n",
       "      <td>2021-09-07 06:07:20</td>\n",
       "      <td>Hai Kak, mohon maaf atas ketidaknyamanannya, a...</td>\n",
       "      <td>2021-09-07 06:18:09</td>\n",
       "      <td>most_relevant</td>\n",
       "      <td>ovo.id</td>\n",
       "    </tr>\n",
       "    <tr>\n",
       "      <th>...</th>\n",
       "      <td>...</td>\n",
       "      <td>...</td>\n",
       "      <td>...</td>\n",
       "      <td>...</td>\n",
       "      <td>...</td>\n",
       "      <td>...</td>\n",
       "      <td>...</td>\n",
       "      <td>...</td>\n",
       "      <td>...</td>\n",
       "      <td>...</td>\n",
       "      <td>...</td>\n",
       "      <td>...</td>\n",
       "    </tr>\n",
       "    <tr>\n",
       "      <th>14395</th>\n",
       "      <td>gp:AOqpTOGe4EzVlFtrhYK_3Kq1Ac7x5B9uC65DPKylFou...</td>\n",
       "      <td>Ayah Azizah</td>\n",
       "      <td>https://play-lh.googleusercontent.com/a/AATXAJ...</td>\n",
       "      <td>sangat membantu,maaf kak aplikasi d dana saya ...</td>\n",
       "      <td>5</td>\n",
       "      <td>0</td>\n",
       "      <td>2.2.0</td>\n",
       "      <td>2021-09-10 19:49:43</td>\n",
       "      <td>Hi Kak, maaf buat kecewa. Terkait keluhan yg d...</td>\n",
       "      <td>2021-09-10 21:58:40</td>\n",
       "      <td>newest</td>\n",
       "      <td>id.dana</td>\n",
       "    </tr>\n",
       "    <tr>\n",
       "      <th>14396</th>\n",
       "      <td>gp:AOqpTOEU4Hl4hFR7dPhJqmXWVaK665pV_eL0XUJtYOF...</td>\n",
       "      <td>Mulyani Mulyani</td>\n",
       "      <td>https://play-lh.googleusercontent.com/a/AATXAJ...</td>\n",
       "      <td>ok</td>\n",
       "      <td>5</td>\n",
       "      <td>0</td>\n",
       "      <td>2.1.1</td>\n",
       "      <td>2021-09-10 19:47:52</td>\n",
       "      <td>Hi Kak, terima kasih ya sudah mempercayakan DA...</td>\n",
       "      <td>2021-09-10 21:31:38</td>\n",
       "      <td>newest</td>\n",
       "      <td>id.dana</td>\n",
       "    </tr>\n",
       "    <tr>\n",
       "      <th>14397</th>\n",
       "      <td>gp:AOqpTOEBvDTvuzHXNKxX69jp3YaetjktIxR7nQNRcYz...</td>\n",
       "      <td>Desi.M Chanel</td>\n",
       "      <td>https://play-lh.googleusercontent.com/a/AATXAJ...</td>\n",
       "      <td>baik</td>\n",
       "      <td>5</td>\n",
       "      <td>0</td>\n",
       "      <td>2.2.0</td>\n",
       "      <td>2021-09-10 19:47:26</td>\n",
       "      <td>Hi Kak, terima kasih ya sudah mempercayakan DA...</td>\n",
       "      <td>2021-09-10 21:31:41</td>\n",
       "      <td>newest</td>\n",
       "      <td>id.dana</td>\n",
       "    </tr>\n",
       "    <tr>\n",
       "      <th>14398</th>\n",
       "      <td>gp:AOqpTOFltmgvCwjmHxSxud-qON7Bbic8-3XyDEAuVX9...</td>\n",
       "      <td>arinta sasa</td>\n",
       "      <td>https://play-lh.googleusercontent.com/a-/AOh14...</td>\n",
       "      <td>Di update gak tambah bagus malah tambah lelet 👎</td>\n",
       "      <td>5</td>\n",
       "      <td>0</td>\n",
       "      <td>2.2.0</td>\n",
       "      <td>2021-09-10 19:46:37</td>\n",
       "      <td>Hi Kak, makasih feedbacknya, kalo ada keluhan,...</td>\n",
       "      <td>2021-09-10 11:18:20</td>\n",
       "      <td>newest</td>\n",
       "      <td>id.dana</td>\n",
       "    </tr>\n",
       "    <tr>\n",
       "      <th>14399</th>\n",
       "      <td>gp:AOqpTOHcUysSrp0ykJDyRLJl25V-6w_mzppA0N-fwJa...</td>\n",
       "      <td>slogohimo wonogiri</td>\n",
       "      <td>https://play-lh.googleusercontent.com/a-/AOh14...</td>\n",
       "      <td>membatu</td>\n",
       "      <td>5</td>\n",
       "      <td>0</td>\n",
       "      <td>1.37.0</td>\n",
       "      <td>2021-09-10 19:46:25</td>\n",
       "      <td>Hi Kak, terima kasih ya sudah mempercayakan DA...</td>\n",
       "      <td>2021-09-10 21:31:40</td>\n",
       "      <td>newest</td>\n",
       "      <td>id.dana</td>\n",
       "    </tr>\n",
       "  </tbody>\n",
       "</table>\n",
       "<p>14400 rows × 12 columns</p>\n",
       "</div>"
      ],
      "text/plain": [
       "                                                reviewId  \\\n",
       "0      gp:AOqpTOFfVB-ecjLtidhryYJFhh4T0Z1KDzcs-WaGqb8...   \n",
       "1      gp:AOqpTOFgnPyjzAh6XXZKgBigKp2IIfzoOKSlxiN-Igw...   \n",
       "2      gp:AOqpTOGuj97RQy6mgaT1SV-8s5lxm2jK9ZiAHS1fAgE...   \n",
       "3      gp:AOqpTOHdA2lJTQACd2sEqh73r-5ow4_40SZaeKfABDM...   \n",
       "4      gp:AOqpTOGoM9YMrnunBDtgTyY1HuFqMiCCb5euqKFhLhG...   \n",
       "...                                                  ...   \n",
       "14395  gp:AOqpTOGe4EzVlFtrhYK_3Kq1Ac7x5B9uC65DPKylFou...   \n",
       "14396  gp:AOqpTOEU4Hl4hFR7dPhJqmXWVaK665pV_eL0XUJtYOF...   \n",
       "14397  gp:AOqpTOEBvDTvuzHXNKxX69jp3YaetjktIxR7nQNRcYz...   \n",
       "14398  gp:AOqpTOFltmgvCwjmHxSxud-qON7Bbic8-3XyDEAuVX9...   \n",
       "14399  gp:AOqpTOHcUysSrp0ykJDyRLJl25V-6w_mzppA0N-fwJa...   \n",
       "\n",
       "                          userName  \\\n",
       "0                  Vian Alfiansyah   \n",
       "1                  Afrizal Santoso   \n",
       "2      Ekki Budiansyah Putri utami   \n",
       "3                   Syofriwan Hadi   \n",
       "4                Imas Siti masitoh   \n",
       "...                            ...   \n",
       "14395                  Ayah Azizah   \n",
       "14396              Mulyani Mulyani   \n",
       "14397                Desi.M Chanel   \n",
       "14398                  arinta sasa   \n",
       "14399           slogohimo wonogiri   \n",
       "\n",
       "                                               userImage  \\\n",
       "0      https://play-lh.googleusercontent.com/a/AATXAJ...   \n",
       "1      https://play-lh.googleusercontent.com/a-/AOh14...   \n",
       "2      https://play-lh.googleusercontent.com/a-/AOh14...   \n",
       "3      https://play-lh.googleusercontent.com/a-/AOh14...   \n",
       "4      https://play-lh.googleusercontent.com/a-/AOh14...   \n",
       "...                                                  ...   \n",
       "14395  https://play-lh.googleusercontent.com/a/AATXAJ...   \n",
       "14396  https://play-lh.googleusercontent.com/a/AATXAJ...   \n",
       "14397  https://play-lh.googleusercontent.com/a/AATXAJ...   \n",
       "14398  https://play-lh.googleusercontent.com/a-/AOh14...   \n",
       "14399  https://play-lh.googleusercontent.com/a-/AOh14...   \n",
       "\n",
       "                                                 content  score  \\\n",
       "0      Hay OVO..Gak usah banyak gaya ingin kerja sama...      1   \n",
       "1      Sungguh bikin kesal, saya dari kemarin beli pa...      1   \n",
       "2      Ga guna banget nih aplikasi. Sekarang susah ba...      1   \n",
       "3      banyak respon negatif dari user 😂😂😂 *top up bi...      1   \n",
       "4      Ini gimana yah ko insentif saya belum cair? Pd...      1   \n",
       "...                                                  ...    ...   \n",
       "14395  sangat membantu,maaf kak aplikasi d dana saya ...      5   \n",
       "14396                                                 ok      5   \n",
       "14397                                               baik      5   \n",
       "14398    Di update gak tambah bagus malah tambah lelet 👎      5   \n",
       "14399                                            membatu      5   \n",
       "\n",
       "       thumbsUpCount reviewCreatedVersion                   at  \\\n",
       "0                 82               3.42.0  2021-09-08 13:19:16   \n",
       "1                  4               3.42.0  2021-09-09 11:23:41   \n",
       "2                  1               3.42.0  2021-09-09 19:20:05   \n",
       "3                 28               3.42.0  2021-09-07 07:58:40   \n",
       "4                 25               3.42.0  2021-09-07 06:07:20   \n",
       "...              ...                  ...                  ...   \n",
       "14395              0                2.2.0  2021-09-10 19:49:43   \n",
       "14396              0                2.1.1  2021-09-10 19:47:52   \n",
       "14397              0                2.2.0  2021-09-10 19:47:26   \n",
       "14398              0                2.2.0  2021-09-10 19:46:37   \n",
       "14399              0               1.37.0  2021-09-10 19:46:25   \n",
       "\n",
       "                                            replyContent            repliedAt  \\\n",
       "0      Hai Kak Vian, mohon maaf atas ketidaknyamanann...  2021-09-08 13:36:41   \n",
       "1      Hai Kak Afrizal, mohon maaf atas ketidaknyaman...  2021-09-09 11:29:46   \n",
       "2      Hai Kak Ekki, mohon maaf atas ketidaknyamanann...  2021-09-09 19:25:21   \n",
       "3      Hai Kak Syofriwan, mohon maaf atas ketidaknyam...  2021-09-07 08:09:21   \n",
       "4      Hai Kak, mohon maaf atas ketidaknyamanannya, a...  2021-09-07 06:18:09   \n",
       "...                                                  ...                  ...   \n",
       "14395  Hi Kak, maaf buat kecewa. Terkait keluhan yg d...  2021-09-10 21:58:40   \n",
       "14396  Hi Kak, terima kasih ya sudah mempercayakan DA...  2021-09-10 21:31:38   \n",
       "14397  Hi Kak, terima kasih ya sudah mempercayakan DA...  2021-09-10 21:31:41   \n",
       "14398  Hi Kak, makasih feedbacknya, kalo ada keluhan,...  2021-09-10 11:18:20   \n",
       "14399  Hi Kak, terima kasih ya sudah mempercayakan DA...  2021-09-10 21:31:40   \n",
       "\n",
       "           sortOrder    appId  \n",
       "0      most_relevant   ovo.id  \n",
       "1      most_relevant   ovo.id  \n",
       "2      most_relevant   ovo.id  \n",
       "3      most_relevant   ovo.id  \n",
       "4      most_relevant   ovo.id  \n",
       "...              ...      ...  \n",
       "14395         newest  id.dana  \n",
       "14396         newest  id.dana  \n",
       "14397         newest  id.dana  \n",
       "14398         newest  id.dana  \n",
       "14399         newest  id.dana  \n",
       "\n",
       "[14400 rows x 12 columns]"
      ]
     },
     "execution_count": 16,
     "metadata": {},
     "output_type": "execute_result"
    }
   ],
   "source": [
    "# Read Result\n",
    "df = pd.read_csv('ggplay.csv')\n",
    "df"
   ]
  },
  {
   "cell_type": "markdown",
   "metadata": {},
   "source": [
    "## Reference\n",
    "- https://curiousily.com/posts/create-dataset-for-sentiment-analysis-by-scraping-google-play-app-reviews-using-python/"
   ]
  }
 ],
 "metadata": {
  "colab": {
   "name": "raw_code_gplay_scraper.ipynb",
   "provenance": []
  },
  "kernelspec": {
   "display_name": "Python 3",
   "language": "python",
   "name": "python3"
  },
  "language_info": {
   "codemirror_mode": {
    "name": "ipython",
    "version": 3
   },
   "file_extension": ".py",
   "mimetype": "text/x-python",
   "name": "python",
   "nbconvert_exporter": "python",
   "pygments_lexer": "ipython3",
   "version": "3.9.4"
  }
 },
 "nbformat": 4,
 "nbformat_minor": 1
}
